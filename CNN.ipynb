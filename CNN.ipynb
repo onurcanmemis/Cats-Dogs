{
 "cells": [
  {
   "cell_type": "markdown",
   "metadata": {},
   "source": [
    "## Importing Libraries"
   ]
  },
  {
   "cell_type": "code",
   "execution_count": 1,
   "metadata": {},
   "outputs": [
    {
     "name": "stdout",
     "output_type": "stream",
     "text": [
      "WARNING:tensorflow:From c:\\Users\\ONUR\\DeepLearning\\.venv\\lib\\site-packages\\keras\\src\\losses.py:2976: The name tf.losses.sparse_softmax_cross_entropy is deprecated. Please use tf.compat.v1.losses.sparse_softmax_cross_entropy instead.\n",
      "\n"
     ]
    }
   ],
   "source": [
    "import tensorflow as tf\n",
    "from keras.preprocessing.image import load_img\n",
    "from keras.preprocessing.image import ImageDataGenerator\n",
    "import numpy as np"
   ]
  },
  {
   "cell_type": "markdown",
   "metadata": {},
   "source": [
    "## Part 1 - Data Preprocessing"
   ]
  },
  {
   "cell_type": "markdown",
   "metadata": {},
   "source": [
    "### a-Preprocessing the Training Set"
   ]
  },
  {
   "cell_type": "code",
   "execution_count": 2,
   "metadata": {},
   "outputs": [
    {
     "name": "stdout",
     "output_type": "stream",
     "text": [
      "Found 8000 images belonging to 2 classes.\n"
     ]
    }
   ],
   "source": [
    "train_datagen = ImageDataGenerator(rescale = 1./255,\n",
    "                                   shear_range = 0.2,\n",
    "                                   zoom_range = 0.2,\n",
    "                                   horizontal_flip = True)\n",
    "\n",
    "training_set = train_datagen.flow_from_directory('dataset_CNN/training_set',\n",
    "                                                 target_size = (64, 64),\n",
    "                                                 batch_size = 32,\n",
    "                                                 class_mode = 'binary')"
   ]
  },
  {
   "cell_type": "markdown",
   "metadata": {},
   "source": [
    "### b-Preprocessing the Test Set"
   ]
  },
  {
   "cell_type": "code",
   "execution_count": 3,
   "metadata": {},
   "outputs": [
    {
     "name": "stdout",
     "output_type": "stream",
     "text": [
      "Found 2000 images belonging to 2 classes.\n"
     ]
    }
   ],
   "source": [
    "test_datagen = ImageDataGenerator(rescale = 1./255)\n",
    "### This prevents data leakage\n",
    "test_set = test_datagen.flow_from_directory('dataset_CNN/test_set',\n",
    "                                            target_size = (64, 64),\n",
    "                                            batch_size = 32,\n",
    "                                            class_mode = 'binary')"
   ]
  },
  {
   "cell_type": "markdown",
   "metadata": {},
   "source": [
    "## Part 2 - Building the CNN"
   ]
  },
  {
   "cell_type": "markdown",
   "metadata": {},
   "source": [
    "### Initialising the CNN"
   ]
  },
  {
   "cell_type": "code",
   "execution_count": 4,
   "metadata": {},
   "outputs": [
    {
     "name": "stdout",
     "output_type": "stream",
     "text": [
      "WARNING:tensorflow:From c:\\Users\\ONUR\\DeepLearning\\.venv\\lib\\site-packages\\keras\\src\\backend.py:873: The name tf.get_default_graph is deprecated. Please use tf.compat.v1.get_default_graph instead.\n",
      "\n"
     ]
    }
   ],
   "source": [
    "cnn= tf.keras.models.Sequential()"
   ]
  },
  {
   "cell_type": "markdown",
   "metadata": {},
   "source": [
    "### Step 1- Convolution"
   ]
  },
  {
   "cell_type": "code",
   "execution_count": 5,
   "metadata": {},
   "outputs": [],
   "source": [
    "cnn.add(tf.keras.layers.Conv2D(filters=32, kernel_size=3, activation='relu', input_shape=[64, 64, 3])) "
   ]
  },
  {
   "cell_type": "markdown",
   "metadata": {},
   "source": [
    "### Step 2-Pooling"
   ]
  },
  {
   "cell_type": "code",
   "execution_count": 6,
   "metadata": {},
   "outputs": [
    {
     "name": "stdout",
     "output_type": "stream",
     "text": [
      "WARNING:tensorflow:From c:\\Users\\ONUR\\DeepLearning\\.venv\\lib\\site-packages\\keras\\src\\layers\\pooling\\max_pooling2d.py:161: The name tf.nn.max_pool is deprecated. Please use tf.nn.max_pool2d instead.\n",
      "\n"
     ]
    }
   ],
   "source": [
    "cnn.add(tf.keras.layers.MaxPool2D(pool_size=2, strides=2))"
   ]
  },
  {
   "cell_type": "markdown",
   "metadata": {},
   "source": [
    "### Adding a second convolutional layer"
   ]
  },
  {
   "cell_type": "code",
   "execution_count": 7,
   "metadata": {},
   "outputs": [],
   "source": [
    "# input shape parameter is only used at the beginning of our model\n",
    "cnn.add(tf.keras.layers.Conv2D(filters=32, kernel_size=3, activation='relu'))\n",
    "cnn.add(tf.keras.layers.MaxPool2D(pool_size=2, strides=2))"
   ]
  },
  {
   "cell_type": "markdown",
   "metadata": {},
   "source": [
    "### Step 3-Flattening"
   ]
  },
  {
   "cell_type": "code",
   "execution_count": 8,
   "metadata": {},
   "outputs": [],
   "source": [
    "# Turning all this image into one dimensional vector\n",
    "cnn.add(tf.keras.layers.Flatten())"
   ]
  },
  {
   "cell_type": "markdown",
   "metadata": {},
   "source": [
    "### Step 4- Full Connection"
   ]
  },
  {
   "cell_type": "code",
   "execution_count": 9,
   "metadata": {},
   "outputs": [],
   "source": [
    "cnn.add(tf.keras.layers.Dense(units=128, activation='relu'))"
   ]
  },
  {
   "cell_type": "markdown",
   "metadata": {},
   "source": [
    "### Step 5- Output Layer"
   ]
  },
  {
   "cell_type": "code",
   "execution_count": 10,
   "metadata": {},
   "outputs": [],
   "source": [
    "cnn.add(tf.keras.layers.Dense(units=1, activation='sigmoid'))"
   ]
  },
  {
   "cell_type": "markdown",
   "metadata": {},
   "source": [
    "## Part 3- Training the CNN"
   ]
  },
  {
   "cell_type": "markdown",
   "metadata": {},
   "source": [
    "### Compiling the CNN"
   ]
  },
  {
   "cell_type": "code",
   "execution_count": 11,
   "metadata": {},
   "outputs": [
    {
     "name": "stdout",
     "output_type": "stream",
     "text": [
      "WARNING:tensorflow:From c:\\Users\\ONUR\\DeepLearning\\.venv\\lib\\site-packages\\keras\\src\\optimizers\\__init__.py:309: The name tf.train.Optimizer is deprecated. Please use tf.compat.v1.train.Optimizer instead.\n",
      "\n"
     ]
    }
   ],
   "source": [
    "cnn.compile(optimizer = 'adam', loss = 'binary_crossentropy', metrics = ['accuracy'])"
   ]
  },
  {
   "cell_type": "markdown",
   "metadata": {},
   "source": [
    "### Training the CNN on the Training set and evaluating it on the Test set"
   ]
  },
  {
   "cell_type": "code",
   "execution_count": 12,
   "metadata": {},
   "outputs": [
    {
     "name": "stdout",
     "output_type": "stream",
     "text": [
      "Epoch 1/25\n",
      "WARNING:tensorflow:From c:\\Users\\ONUR\\DeepLearning\\.venv\\lib\\site-packages\\keras\\src\\utils\\tf_utils.py:492: The name tf.ragged.RaggedTensorValue is deprecated. Please use tf.compat.v1.ragged.RaggedTensorValue instead.\n",
      "\n",
      "WARNING:tensorflow:From c:\\Users\\ONUR\\DeepLearning\\.venv\\lib\\site-packages\\keras\\src\\engine\\base_layer_utils.py:384: The name tf.executing_eagerly_outside_functions is deprecated. Please use tf.compat.v1.executing_eagerly_outside_functions instead.\n",
      "\n",
      "250/250 [==============================] - 65s 251ms/step - loss: 0.6833 - accuracy: 0.5484 - val_loss: 0.6808 - val_accuracy: 0.5520\n",
      "Epoch 2/25\n",
      "250/250 [==============================] - 57s 227ms/step - loss: 0.6462 - accuracy: 0.6316 - val_loss: 0.6177 - val_accuracy: 0.6575\n",
      "Epoch 3/25\n",
      "250/250 [==============================] - 52s 206ms/step - loss: 0.5984 - accuracy: 0.6793 - val_loss: 0.5770 - val_accuracy: 0.7075\n",
      "Epoch 4/25\n",
      "250/250 [==============================] - 48s 192ms/step - loss: 0.5606 - accuracy: 0.7129 - val_loss: 0.5238 - val_accuracy: 0.7490\n",
      "Epoch 5/25\n",
      "250/250 [==============================] - 53s 213ms/step - loss: 0.5276 - accuracy: 0.7311 - val_loss: 0.5345 - val_accuracy: 0.7455\n",
      "Epoch 6/25\n",
      "250/250 [==============================] - 60s 241ms/step - loss: 0.5016 - accuracy: 0.7536 - val_loss: 0.5187 - val_accuracy: 0.7445\n",
      "Epoch 7/25\n",
      "250/250 [==============================] - 58s 231ms/step - loss: 0.4773 - accuracy: 0.7692 - val_loss: 0.4990 - val_accuracy: 0.7620\n",
      "Epoch 8/25\n",
      "250/250 [==============================] - 56s 223ms/step - loss: 0.4626 - accuracy: 0.7800 - val_loss: 0.4862 - val_accuracy: 0.7830\n",
      "Epoch 9/25\n",
      "250/250 [==============================] - 51s 205ms/step - loss: 0.4615 - accuracy: 0.7791 - val_loss: 0.4765 - val_accuracy: 0.7670\n",
      "Epoch 10/25\n",
      "250/250 [==============================] - 34s 137ms/step - loss: 0.4317 - accuracy: 0.7996 - val_loss: 0.4733 - val_accuracy: 0.7800\n",
      "Epoch 11/25\n",
      "250/250 [==============================] - 46s 184ms/step - loss: 0.4214 - accuracy: 0.8051 - val_loss: 0.4714 - val_accuracy: 0.7795\n",
      "Epoch 12/25\n",
      "250/250 [==============================] - 51s 204ms/step - loss: 0.4026 - accuracy: 0.8156 - val_loss: 0.4717 - val_accuracy: 0.7875\n",
      "Epoch 13/25\n",
      "250/250 [==============================] - 55s 219ms/step - loss: 0.3859 - accuracy: 0.8225 - val_loss: 0.4967 - val_accuracy: 0.7775\n",
      "Epoch 14/25\n",
      "250/250 [==============================] - 54s 218ms/step - loss: 0.3696 - accuracy: 0.8329 - val_loss: 0.4667 - val_accuracy: 0.7920\n",
      "Epoch 15/25\n",
      "250/250 [==============================] - 56s 223ms/step - loss: 0.3579 - accuracy: 0.8457 - val_loss: 0.4831 - val_accuracy: 0.7835\n",
      "Epoch 16/25\n",
      "250/250 [==============================] - 55s 221ms/step - loss: 0.3387 - accuracy: 0.8499 - val_loss: 0.4581 - val_accuracy: 0.8055\n",
      "Epoch 17/25\n",
      "250/250 [==============================] - 55s 221ms/step - loss: 0.3270 - accuracy: 0.8608 - val_loss: 0.5058 - val_accuracy: 0.7800\n",
      "Epoch 18/25\n",
      "250/250 [==============================] - 49s 197ms/step - loss: 0.3002 - accuracy: 0.8711 - val_loss: 0.5212 - val_accuracy: 0.7835\n",
      "Epoch 19/25\n",
      "250/250 [==============================] - 42s 167ms/step - loss: 0.2904 - accuracy: 0.8756 - val_loss: 0.5536 - val_accuracy: 0.7725\n",
      "Epoch 20/25\n",
      "250/250 [==============================] - 51s 206ms/step - loss: 0.2831 - accuracy: 0.8795 - val_loss: 0.5194 - val_accuracy: 0.7930\n",
      "Epoch 21/25\n",
      "250/250 [==============================] - 51s 205ms/step - loss: 0.2595 - accuracy: 0.8944 - val_loss: 0.6141 - val_accuracy: 0.7790\n",
      "Epoch 22/25\n",
      "250/250 [==============================] - 52s 207ms/step - loss: 0.2473 - accuracy: 0.9010 - val_loss: 0.5094 - val_accuracy: 0.7945\n",
      "Epoch 23/25\n",
      "250/250 [==============================] - 51s 204ms/step - loss: 0.2357 - accuracy: 0.9054 - val_loss: 0.5495 - val_accuracy: 0.7920\n",
      "Epoch 24/25\n",
      "250/250 [==============================] - 51s 206ms/step - loss: 0.2189 - accuracy: 0.9119 - val_loss: 0.5503 - val_accuracy: 0.7945\n",
      "Epoch 25/25\n",
      "250/250 [==============================] - 45s 178ms/step - loss: 0.1989 - accuracy: 0.9227 - val_loss: 0.5826 - val_accuracy: 0.7895\n"
     ]
    },
    {
     "data": {
      "text/plain": [
       "<keras.src.callbacks.History at 0x15a43453850>"
      ]
     },
     "execution_count": 12,
     "metadata": {},
     "output_type": "execute_result"
    }
   ],
   "source": [
    "cnn.fit(x = training_set, validation_data = test_set, epochs = 25)"
   ]
  },
  {
   "cell_type": "markdown",
   "metadata": {},
   "source": [
    "## Part 4- Making a single prediction"
   ]
  },
  {
   "cell_type": "code",
   "execution_count": 15,
   "metadata": {},
   "outputs": [
    {
     "name": "stdout",
     "output_type": "stream",
     "text": [
      "1/1 [==============================] - 0s 136ms/step\n"
     ]
    }
   ],
   "source": [
    "from keras.preprocessing import image\n",
    "test_image = image.load_img('dataset_CNN/single_prediction/cat_or_dog_1.jpg', target_size = (64, 64))\n",
    "test_image =image.img_to_array(test_image)\n",
    "test_image =np.expand_dims(test_image, axis = 0)\n",
    "result = cnn.predict(test_image/255.0)\n",
    "if result[0][0] >0.5:\n",
    "  prediction = 'dog'\n",
    "else:\n",
    "  prediction = 'cat'"
   ]
  },
  {
   "cell_type": "code",
   "execution_count": 19,
   "metadata": {},
   "outputs": [
    {
     "name": "stdout",
     "output_type": "stream",
     "text": [
      "dog\n"
     ]
    }
   ],
   "source": [
    "print(prediction)"
   ]
  },
  {
   "cell_type": "code",
   "execution_count": 20,
   "metadata": {},
   "outputs": [
    {
     "name": "stderr",
     "output_type": "stream",
     "text": [
      "c:\\Users\\ONUR\\DeepLearning\\.venv\\lib\\site-packages\\keras\\src\\engine\\training.py:3103: UserWarning: You are saving your model as an HDF5 file via `model.save()`. This file format is considered legacy. We recommend using instead the native Keras format, e.g. `model.save('my_model.keras')`.\n",
      "  saving_api.save_model(\n"
     ]
    }
   ],
   "source": [
    "from tensorflow.keras.models import load_model\n",
    "cnn.save('cnn_model.h5')"
   ]
  },
  {
   "cell_type": "code",
   "execution_count": null,
   "metadata": {},
   "outputs": [],
   "source": []
  }
 ],
 "metadata": {
  "kernelspec": {
   "display_name": ".venv",
   "language": "python",
   "name": "python3"
  },
  "language_info": {
   "codemirror_mode": {
    "name": "ipython",
    "version": 3
   },
   "file_extension": ".py",
   "mimetype": "text/x-python",
   "name": "python",
   "nbconvert_exporter": "python",
   "pygments_lexer": "ipython3",
   "version": "3.9.13"
  }
 },
 "nbformat": 4,
 "nbformat_minor": 2
}
